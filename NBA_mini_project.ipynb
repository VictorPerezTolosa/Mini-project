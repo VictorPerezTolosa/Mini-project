{
 "cells": [
  {
   "cell_type": "markdown",
   "id": "00b9fc3b",
   "metadata": {},
   "source": [
    "# IRONHACK mini project\n",
    "\n",
    "\n",
    "### The challenge\n",
    "\n",
    "* Perform an end-to-end analysis putting into practice what you have learned so far. You will apply statistical or machine learning techniques and present your results to the class.\n",
    "\n",
    "\n",
    "### The goal\n",
    "\n",
    "* We want to act as a consultant for a NBA team who wants to know how important are the Draft picks for a franchise. We will be able to say how important are their picks and how good is going to be a player depending on their pick of the Draft.\n",
    "* Is it worthy to have one of the top selections?"
   ]
  },
  {
   "cell_type": "code",
   "execution_count": 1,
   "id": "8d8f81db",
   "metadata": {},
   "outputs": [],
   "source": [
    "# Import libraries and dependencies\n",
    "\n",
    "import pandas as pd\n",
    "import numpy as np \n",
    "from sklearn.model_selection import train_test_split\n",
    "from sklearn.preprocessing import StandardScaler\n",
    "from sklearn.linear_model import LinearRegression\n",
    "from sklearn.metrics import mean_squared_error, mean_absolute_error\n",
    "import seaborn as sns\n",
    "import matplotlib.pyplot as plt\n",
    "import plotly.express as px\n",
    "\n",
    "pd.set_option('display.max_columns', None) # We want to see all the columns"
   ]
  },
  {
   "cell_type": "code",
   "execution_count": 2,
   "id": "7f85aa97",
   "metadata": {
    "scrolled": true
   },
   "outputs": [
    {
     "ename": "FileNotFoundError",
     "evalue": "[Errno 2] No such file or directory: '../Data/20_Years_of_NBA_Draft_Data/draft-data-20-years.csv'",
     "output_type": "error",
     "traceback": [
      "\u001b[1;31m---------------------------------------------------------------------------\u001b[0m",
      "\u001b[1;31mFileNotFoundError\u001b[0m                         Traceback (most recent call last)",
      "Input \u001b[1;32mIn [2]\u001b[0m, in \u001b[0;36m<cell line: 3>\u001b[1;34m()\u001b[0m\n\u001b[0;32m      1\u001b[0m \u001b[38;5;66;03m# Import an original database\u001b[39;00m\n\u001b[1;32m----> 3\u001b[0m nba \u001b[38;5;241m=\u001b[39m \u001b[43mpd\u001b[49m\u001b[38;5;241;43m.\u001b[39;49m\u001b[43mread_csv\u001b[49m\u001b[43m(\u001b[49m\u001b[38;5;124;43m\"\u001b[39;49m\u001b[38;5;124;43m../Data/20_Years_of_NBA_Draft_Data/draft-data-20-years.csv\u001b[39;49m\u001b[38;5;124;43m\"\u001b[39;49m\u001b[43m)\u001b[49m\n\u001b[0;32m      4\u001b[0m nba\n",
      "File \u001b[1;32mC:\\ProgramData\\Anaconda3\\lib\\site-packages\\pandas\\util\\_decorators.py:311\u001b[0m, in \u001b[0;36mdeprecate_nonkeyword_arguments.<locals>.decorate.<locals>.wrapper\u001b[1;34m(*args, **kwargs)\u001b[0m\n\u001b[0;32m    305\u001b[0m \u001b[38;5;28;01mif\u001b[39;00m \u001b[38;5;28mlen\u001b[39m(args) \u001b[38;5;241m>\u001b[39m num_allow_args:\n\u001b[0;32m    306\u001b[0m     warnings\u001b[38;5;241m.\u001b[39mwarn(\n\u001b[0;32m    307\u001b[0m         msg\u001b[38;5;241m.\u001b[39mformat(arguments\u001b[38;5;241m=\u001b[39marguments),\n\u001b[0;32m    308\u001b[0m         \u001b[38;5;167;01mFutureWarning\u001b[39;00m,\n\u001b[0;32m    309\u001b[0m         stacklevel\u001b[38;5;241m=\u001b[39mstacklevel,\n\u001b[0;32m    310\u001b[0m     )\n\u001b[1;32m--> 311\u001b[0m \u001b[38;5;28;01mreturn\u001b[39;00m func(\u001b[38;5;241m*\u001b[39margs, \u001b[38;5;241m*\u001b[39m\u001b[38;5;241m*\u001b[39mkwargs)\n",
      "File \u001b[1;32mC:\\ProgramData\\Anaconda3\\lib\\site-packages\\pandas\\io\\parsers\\readers.py:680\u001b[0m, in \u001b[0;36mread_csv\u001b[1;34m(filepath_or_buffer, sep, delimiter, header, names, index_col, usecols, squeeze, prefix, mangle_dupe_cols, dtype, engine, converters, true_values, false_values, skipinitialspace, skiprows, skipfooter, nrows, na_values, keep_default_na, na_filter, verbose, skip_blank_lines, parse_dates, infer_datetime_format, keep_date_col, date_parser, dayfirst, cache_dates, iterator, chunksize, compression, thousands, decimal, lineterminator, quotechar, quoting, doublequote, escapechar, comment, encoding, encoding_errors, dialect, error_bad_lines, warn_bad_lines, on_bad_lines, delim_whitespace, low_memory, memory_map, float_precision, storage_options)\u001b[0m\n\u001b[0;32m    665\u001b[0m kwds_defaults \u001b[38;5;241m=\u001b[39m _refine_defaults_read(\n\u001b[0;32m    666\u001b[0m     dialect,\n\u001b[0;32m    667\u001b[0m     delimiter,\n\u001b[1;32m   (...)\u001b[0m\n\u001b[0;32m    676\u001b[0m     defaults\u001b[38;5;241m=\u001b[39m{\u001b[38;5;124m\"\u001b[39m\u001b[38;5;124mdelimiter\u001b[39m\u001b[38;5;124m\"\u001b[39m: \u001b[38;5;124m\"\u001b[39m\u001b[38;5;124m,\u001b[39m\u001b[38;5;124m\"\u001b[39m},\n\u001b[0;32m    677\u001b[0m )\n\u001b[0;32m    678\u001b[0m kwds\u001b[38;5;241m.\u001b[39mupdate(kwds_defaults)\n\u001b[1;32m--> 680\u001b[0m \u001b[38;5;28;01mreturn\u001b[39;00m \u001b[43m_read\u001b[49m\u001b[43m(\u001b[49m\u001b[43mfilepath_or_buffer\u001b[49m\u001b[43m,\u001b[49m\u001b[43m \u001b[49m\u001b[43mkwds\u001b[49m\u001b[43m)\u001b[49m\n",
      "File \u001b[1;32mC:\\ProgramData\\Anaconda3\\lib\\site-packages\\pandas\\io\\parsers\\readers.py:575\u001b[0m, in \u001b[0;36m_read\u001b[1;34m(filepath_or_buffer, kwds)\u001b[0m\n\u001b[0;32m    572\u001b[0m _validate_names(kwds\u001b[38;5;241m.\u001b[39mget(\u001b[38;5;124m\"\u001b[39m\u001b[38;5;124mnames\u001b[39m\u001b[38;5;124m\"\u001b[39m, \u001b[38;5;28;01mNone\u001b[39;00m))\n\u001b[0;32m    574\u001b[0m \u001b[38;5;66;03m# Create the parser.\u001b[39;00m\n\u001b[1;32m--> 575\u001b[0m parser \u001b[38;5;241m=\u001b[39m TextFileReader(filepath_or_buffer, \u001b[38;5;241m*\u001b[39m\u001b[38;5;241m*\u001b[39mkwds)\n\u001b[0;32m    577\u001b[0m \u001b[38;5;28;01mif\u001b[39;00m chunksize \u001b[38;5;129;01mor\u001b[39;00m iterator:\n\u001b[0;32m    578\u001b[0m     \u001b[38;5;28;01mreturn\u001b[39;00m parser\n",
      "File \u001b[1;32mC:\\ProgramData\\Anaconda3\\lib\\site-packages\\pandas\\io\\parsers\\readers.py:933\u001b[0m, in \u001b[0;36mTextFileReader.__init__\u001b[1;34m(self, f, engine, **kwds)\u001b[0m\n\u001b[0;32m    930\u001b[0m     \u001b[38;5;28mself\u001b[39m\u001b[38;5;241m.\u001b[39moptions[\u001b[38;5;124m\"\u001b[39m\u001b[38;5;124mhas_index_names\u001b[39m\u001b[38;5;124m\"\u001b[39m] \u001b[38;5;241m=\u001b[39m kwds[\u001b[38;5;124m\"\u001b[39m\u001b[38;5;124mhas_index_names\u001b[39m\u001b[38;5;124m\"\u001b[39m]\n\u001b[0;32m    932\u001b[0m \u001b[38;5;28mself\u001b[39m\u001b[38;5;241m.\u001b[39mhandles: IOHandles \u001b[38;5;241m|\u001b[39m \u001b[38;5;28;01mNone\u001b[39;00m \u001b[38;5;241m=\u001b[39m \u001b[38;5;28;01mNone\u001b[39;00m\n\u001b[1;32m--> 933\u001b[0m \u001b[38;5;28mself\u001b[39m\u001b[38;5;241m.\u001b[39m_engine \u001b[38;5;241m=\u001b[39m \u001b[38;5;28;43mself\u001b[39;49m\u001b[38;5;241;43m.\u001b[39;49m\u001b[43m_make_engine\u001b[49m\u001b[43m(\u001b[49m\u001b[43mf\u001b[49m\u001b[43m,\u001b[49m\u001b[43m \u001b[49m\u001b[38;5;28;43mself\u001b[39;49m\u001b[38;5;241;43m.\u001b[39;49m\u001b[43mengine\u001b[49m\u001b[43m)\u001b[49m\n",
      "File \u001b[1;32mC:\\ProgramData\\Anaconda3\\lib\\site-packages\\pandas\\io\\parsers\\readers.py:1217\u001b[0m, in \u001b[0;36mTextFileReader._make_engine\u001b[1;34m(self, f, engine)\u001b[0m\n\u001b[0;32m   1213\u001b[0m     mode \u001b[38;5;241m=\u001b[39m \u001b[38;5;124m\"\u001b[39m\u001b[38;5;124mrb\u001b[39m\u001b[38;5;124m\"\u001b[39m\n\u001b[0;32m   1214\u001b[0m \u001b[38;5;66;03m# error: No overload variant of \"get_handle\" matches argument types\u001b[39;00m\n\u001b[0;32m   1215\u001b[0m \u001b[38;5;66;03m# \"Union[str, PathLike[str], ReadCsvBuffer[bytes], ReadCsvBuffer[str]]\"\u001b[39;00m\n\u001b[0;32m   1216\u001b[0m \u001b[38;5;66;03m# , \"str\", \"bool\", \"Any\", \"Any\", \"Any\", \"Any\", \"Any\"\u001b[39;00m\n\u001b[1;32m-> 1217\u001b[0m \u001b[38;5;28mself\u001b[39m\u001b[38;5;241m.\u001b[39mhandles \u001b[38;5;241m=\u001b[39m \u001b[43mget_handle\u001b[49m\u001b[43m(\u001b[49m\u001b[43m  \u001b[49m\u001b[38;5;66;43;03m# type: ignore[call-overload]\u001b[39;49;00m\n\u001b[0;32m   1218\u001b[0m \u001b[43m    \u001b[49m\u001b[43mf\u001b[49m\u001b[43m,\u001b[49m\n\u001b[0;32m   1219\u001b[0m \u001b[43m    \u001b[49m\u001b[43mmode\u001b[49m\u001b[43m,\u001b[49m\n\u001b[0;32m   1220\u001b[0m \u001b[43m    \u001b[49m\u001b[43mencoding\u001b[49m\u001b[38;5;241;43m=\u001b[39;49m\u001b[38;5;28;43mself\u001b[39;49m\u001b[38;5;241;43m.\u001b[39;49m\u001b[43moptions\u001b[49m\u001b[38;5;241;43m.\u001b[39;49m\u001b[43mget\u001b[49m\u001b[43m(\u001b[49m\u001b[38;5;124;43m\"\u001b[39;49m\u001b[38;5;124;43mencoding\u001b[39;49m\u001b[38;5;124;43m\"\u001b[39;49m\u001b[43m,\u001b[49m\u001b[43m \u001b[49m\u001b[38;5;28;43;01mNone\u001b[39;49;00m\u001b[43m)\u001b[49m\u001b[43m,\u001b[49m\n\u001b[0;32m   1221\u001b[0m \u001b[43m    \u001b[49m\u001b[43mcompression\u001b[49m\u001b[38;5;241;43m=\u001b[39;49m\u001b[38;5;28;43mself\u001b[39;49m\u001b[38;5;241;43m.\u001b[39;49m\u001b[43moptions\u001b[49m\u001b[38;5;241;43m.\u001b[39;49m\u001b[43mget\u001b[49m\u001b[43m(\u001b[49m\u001b[38;5;124;43m\"\u001b[39;49m\u001b[38;5;124;43mcompression\u001b[39;49m\u001b[38;5;124;43m\"\u001b[39;49m\u001b[43m,\u001b[49m\u001b[43m \u001b[49m\u001b[38;5;28;43;01mNone\u001b[39;49;00m\u001b[43m)\u001b[49m\u001b[43m,\u001b[49m\n\u001b[0;32m   1222\u001b[0m \u001b[43m    \u001b[49m\u001b[43mmemory_map\u001b[49m\u001b[38;5;241;43m=\u001b[39;49m\u001b[38;5;28;43mself\u001b[39;49m\u001b[38;5;241;43m.\u001b[39;49m\u001b[43moptions\u001b[49m\u001b[38;5;241;43m.\u001b[39;49m\u001b[43mget\u001b[49m\u001b[43m(\u001b[49m\u001b[38;5;124;43m\"\u001b[39;49m\u001b[38;5;124;43mmemory_map\u001b[39;49m\u001b[38;5;124;43m\"\u001b[39;49m\u001b[43m,\u001b[49m\u001b[43m \u001b[49m\u001b[38;5;28;43;01mFalse\u001b[39;49;00m\u001b[43m)\u001b[49m\u001b[43m,\u001b[49m\n\u001b[0;32m   1223\u001b[0m \u001b[43m    \u001b[49m\u001b[43mis_text\u001b[49m\u001b[38;5;241;43m=\u001b[39;49m\u001b[43mis_text\u001b[49m\u001b[43m,\u001b[49m\n\u001b[0;32m   1224\u001b[0m \u001b[43m    \u001b[49m\u001b[43merrors\u001b[49m\u001b[38;5;241;43m=\u001b[39;49m\u001b[38;5;28;43mself\u001b[39;49m\u001b[38;5;241;43m.\u001b[39;49m\u001b[43moptions\u001b[49m\u001b[38;5;241;43m.\u001b[39;49m\u001b[43mget\u001b[49m\u001b[43m(\u001b[49m\u001b[38;5;124;43m\"\u001b[39;49m\u001b[38;5;124;43mencoding_errors\u001b[39;49m\u001b[38;5;124;43m\"\u001b[39;49m\u001b[43m,\u001b[49m\u001b[43m \u001b[49m\u001b[38;5;124;43m\"\u001b[39;49m\u001b[38;5;124;43mstrict\u001b[39;49m\u001b[38;5;124;43m\"\u001b[39;49m\u001b[43m)\u001b[49m\u001b[43m,\u001b[49m\n\u001b[0;32m   1225\u001b[0m \u001b[43m    \u001b[49m\u001b[43mstorage_options\u001b[49m\u001b[38;5;241;43m=\u001b[39;49m\u001b[38;5;28;43mself\u001b[39;49m\u001b[38;5;241;43m.\u001b[39;49m\u001b[43moptions\u001b[49m\u001b[38;5;241;43m.\u001b[39;49m\u001b[43mget\u001b[49m\u001b[43m(\u001b[49m\u001b[38;5;124;43m\"\u001b[39;49m\u001b[38;5;124;43mstorage_options\u001b[39;49m\u001b[38;5;124;43m\"\u001b[39;49m\u001b[43m,\u001b[49m\u001b[43m \u001b[49m\u001b[38;5;28;43;01mNone\u001b[39;49;00m\u001b[43m)\u001b[49m\u001b[43m,\u001b[49m\n\u001b[0;32m   1226\u001b[0m \u001b[43m\u001b[49m\u001b[43m)\u001b[49m\n\u001b[0;32m   1227\u001b[0m \u001b[38;5;28;01massert\u001b[39;00m \u001b[38;5;28mself\u001b[39m\u001b[38;5;241m.\u001b[39mhandles \u001b[38;5;129;01mis\u001b[39;00m \u001b[38;5;129;01mnot\u001b[39;00m \u001b[38;5;28;01mNone\u001b[39;00m\n\u001b[0;32m   1228\u001b[0m f \u001b[38;5;241m=\u001b[39m \u001b[38;5;28mself\u001b[39m\u001b[38;5;241m.\u001b[39mhandles\u001b[38;5;241m.\u001b[39mhandle\n",
      "File \u001b[1;32mC:\\ProgramData\\Anaconda3\\lib\\site-packages\\pandas\\io\\common.py:789\u001b[0m, in \u001b[0;36mget_handle\u001b[1;34m(path_or_buf, mode, encoding, compression, memory_map, is_text, errors, storage_options)\u001b[0m\n\u001b[0;32m    784\u001b[0m \u001b[38;5;28;01melif\u001b[39;00m \u001b[38;5;28misinstance\u001b[39m(handle, \u001b[38;5;28mstr\u001b[39m):\n\u001b[0;32m    785\u001b[0m     \u001b[38;5;66;03m# Check whether the filename is to be opened in binary mode.\u001b[39;00m\n\u001b[0;32m    786\u001b[0m     \u001b[38;5;66;03m# Binary mode does not support 'encoding' and 'newline'.\u001b[39;00m\n\u001b[0;32m    787\u001b[0m     \u001b[38;5;28;01mif\u001b[39;00m ioargs\u001b[38;5;241m.\u001b[39mencoding \u001b[38;5;129;01mand\u001b[39;00m \u001b[38;5;124m\"\u001b[39m\u001b[38;5;124mb\u001b[39m\u001b[38;5;124m\"\u001b[39m \u001b[38;5;129;01mnot\u001b[39;00m \u001b[38;5;129;01min\u001b[39;00m ioargs\u001b[38;5;241m.\u001b[39mmode:\n\u001b[0;32m    788\u001b[0m         \u001b[38;5;66;03m# Encoding\u001b[39;00m\n\u001b[1;32m--> 789\u001b[0m         handle \u001b[38;5;241m=\u001b[39m \u001b[38;5;28;43mopen\u001b[39;49m\u001b[43m(\u001b[49m\n\u001b[0;32m    790\u001b[0m \u001b[43m            \u001b[49m\u001b[43mhandle\u001b[49m\u001b[43m,\u001b[49m\n\u001b[0;32m    791\u001b[0m \u001b[43m            \u001b[49m\u001b[43mioargs\u001b[49m\u001b[38;5;241;43m.\u001b[39;49m\u001b[43mmode\u001b[49m\u001b[43m,\u001b[49m\n\u001b[0;32m    792\u001b[0m \u001b[43m            \u001b[49m\u001b[43mencoding\u001b[49m\u001b[38;5;241;43m=\u001b[39;49m\u001b[43mioargs\u001b[49m\u001b[38;5;241;43m.\u001b[39;49m\u001b[43mencoding\u001b[49m\u001b[43m,\u001b[49m\n\u001b[0;32m    793\u001b[0m \u001b[43m            \u001b[49m\u001b[43merrors\u001b[49m\u001b[38;5;241;43m=\u001b[39;49m\u001b[43merrors\u001b[49m\u001b[43m,\u001b[49m\n\u001b[0;32m    794\u001b[0m \u001b[43m            \u001b[49m\u001b[43mnewline\u001b[49m\u001b[38;5;241;43m=\u001b[39;49m\u001b[38;5;124;43m\"\u001b[39;49m\u001b[38;5;124;43m\"\u001b[39;49m\u001b[43m,\u001b[49m\n\u001b[0;32m    795\u001b[0m \u001b[43m        \u001b[49m\u001b[43m)\u001b[49m\n\u001b[0;32m    796\u001b[0m     \u001b[38;5;28;01melse\u001b[39;00m:\n\u001b[0;32m    797\u001b[0m         \u001b[38;5;66;03m# Binary mode\u001b[39;00m\n\u001b[0;32m    798\u001b[0m         handle \u001b[38;5;241m=\u001b[39m \u001b[38;5;28mopen\u001b[39m(handle, ioargs\u001b[38;5;241m.\u001b[39mmode)\n",
      "\u001b[1;31mFileNotFoundError\u001b[0m: [Errno 2] No such file or directory: '../Data/20_Years_of_NBA_Draft_Data/draft-data-20-years.csv'"
     ]
    }
   ],
   "source": [
    "# Import an original database\n",
    "\n",
    "nba = pd.read_csv(\"Data/20_Years_of_NBA_Draft_Data/draft-data-20-years.csv\")\n",
    "nba"
   ]
  },
  {
   "cell_type": "code",
   "execution_count": null,
   "id": "b7f06bb4",
   "metadata": {},
   "outputs": [],
   "source": [
    "nba.shape"
   ]
  },
  {
   "cell_type": "code",
   "execution_count": null,
   "id": "11e4efdf",
   "metadata": {},
   "outputs": [],
   "source": [
    "nba.info()"
   ]
  },
  {
   "cell_type": "code",
   "execution_count": null,
   "id": "1230233a",
   "metadata": {},
   "outputs": [],
   "source": [
    "nba.describe(include=\"all\")"
   ]
  },
  {
   "cell_type": "markdown",
   "id": "9fd1cb21",
   "metadata": {},
   "source": [
    "#### CONCLUSION:\n",
    ">After observing the database and the rest of descriptive tables, we see that the column 'Unnamed: 0' is an \"index\" column and there are 2 couples of columns that have exactly the same values ('Rk' and 'Pk') and ('DraftYr' and 'DraftYear'). Moreover, the draft overall picks are sorted in ascending order whereas the rest of numerical columns are sorted in descending order.\n",
    "\n",
    ">CLARIFICATION: We are not going to drop the repeated column 'Rk' because we will use it as a groupby column.\n",
    "\n",
    ">We also observe that there are some rows that they have almost the entire row full of NaN. Those rows are from players who never played NBA even they were selected in the Draft. As our study is going to be for athletes who actually played the game, we decided to drop them all off.\n",
    "\n",
    ">On the describe table we see that there is at least one name repeated, we are going to check"
   ]
  },
  {
   "cell_type": "code",
   "execution_count": null,
   "id": "331c4c03",
   "metadata": {},
   "outputs": [],
   "source": [
    "# Dropping unnecessary and repeated columns\n",
    "\n",
    "nba = nba.drop(['Unnamed: 0', 'Tm', 'College', 'DraftYr', 'playerurl'], axis =1) # Dropping columns"
   ]
  },
  {
   "cell_type": "code",
   "execution_count": null,
   "id": "c9e7fd8e",
   "metadata": {
    "scrolled": true
   },
   "outputs": [],
   "source": [
    "nba.head(5) # Checking"
   ]
  },
  {
   "cell_type": "code",
   "execution_count": null,
   "id": "ac0e80ef",
   "metadata": {
    "scrolled": true
   },
   "outputs": [],
   "source": [
    "# Checking the duplicity of the player names\n",
    "\n",
    "nba.Player.value_counts()"
   ]
  },
  {
   "cell_type": "code",
   "execution_count": null,
   "id": "bf001ea5",
   "metadata": {},
   "outputs": [],
   "source": [
    "# Dropping full duplicated rows\n",
    "# If we did only with player names, we could drop players who have the same name but there are not the same person\n",
    "\n",
    "nba.drop_duplicates(ignore_index=True)"
   ]
  },
  {
   "cell_type": "markdown",
   "id": "96f603ba",
   "metadata": {},
   "source": [
    ">We see the same number of rows than the original database after dropping so there are not duplicated players"
   ]
  },
  {
   "cell_type": "code",
   "execution_count": null,
   "id": "a1563d86",
   "metadata": {},
   "outputs": [],
   "source": [
    "# Checking the NaN\n",
    "\n",
    "nba.isna().sum()"
   ]
  },
  {
   "cell_type": "code",
   "execution_count": null,
   "id": "f438195c",
   "metadata": {},
   "outputs": [],
   "source": [
    "nba = nba.dropna().reset_index(drop=True) # Dropping them\n",
    "nba.isna().sum()"
   ]
  },
  {
   "cell_type": "code",
   "execution_count": null,
   "id": "954534e3",
   "metadata": {
    "scrolled": true
   },
   "outputs": [],
   "source": [
    "# Renaming the headers\n",
    "\n",
    "nba.rename(columns={'Rk':'groupby', 'Pk':'overall_pick', 'Yrs':'years_played', 'G':'total_games_played', 'TOTMP':'total_minutes_played', 'TOTPTS':'total_points_scored', 'TOTTRB':'total_rebounds', 'TOTAST':'total_assists', 'FG%':'field_goal_percentage', '3P%':'3_point_percentage',\n",
    "       'FT%':'free_throw_percentage', 'WS':'win_shares', 'WS/48':'win_shares_48_minutes', 'BPM':'box_plus_minus', 'VORP':'value_over_replacement_player', 'MPG':'minutes_per_game', 'PPG':'points_per_game', 'RPG':'rebounds_per_game', 'APG':'assists_per_game',\n",
    "       'DraftYear':'draft_year'},inplace=True)\n",
    "nba.head(5)"
   ]
  },
  {
   "cell_type": "code",
   "execution_count": null,
   "id": "ab73af0c",
   "metadata": {},
   "outputs": [],
   "source": [
    "# We are going to create a new variable as a groupby for all the overall picks with the mean of each other features\n",
    "# We also are going to drop the 'draft_year' column because it gives us nothing\n",
    "\n",
    "nba_groupby = nba.groupby(by= [\"groupby\"], axis= 0).mean().round(2).drop(['draft_year'], axis =1)\n",
    "nba_groupby"
   ]
  },
  {
   "cell_type": "code",
   "execution_count": null,
   "id": "26a4eb97",
   "metadata": {
    "scrolled": true
   },
   "outputs": [],
   "source": [
    "sns.pairplot(nba_groupby)"
   ]
  },
  {
   "cell_type": "code",
   "execution_count": null,
   "id": "b78100a0",
   "metadata": {
    "scrolled": true
   },
   "outputs": [],
   "source": [
    "nba_groupby.corr(\"spearman\").style.background_gradient(cmap='coolwarm')"
   ]
  },
  {
   "cell_type": "markdown",
   "id": "f78d7c33",
   "metadata": {},
   "source": [
    "#### CONCLUSION\n",
    "\n",
    "* By only a simple sight of both the pairplot and the heatmap, we see a huge correlation between the overall pick and the rest of the features. This correlation is negative as the overall pick column is in descending order. So we can conclude already that there is a close relationship between the draft overall pick and the performance of a player in their career.\n",
    "* The rest of the features are also correlated because as more games more points scored and so on.\n",
    "* Only the percentadge variables show no correlation. They tell us that it does not mean that as more games or higher pick better percentadge, it is just a bit higher but not so relevant."
   ]
  },
  {
   "cell_type": "code",
   "execution_count": null,
   "id": "00c63851",
   "metadata": {},
   "outputs": [],
   "source": [
    "# Making a new variable dropping the huge correlated columns in order to avoid multicorrelation\n",
    "\n",
    "nba_groupby_new = nba_groupby.drop(['total_games_played', 'total_minutes_played', 'total_rebounds', 'total_assists', \n",
    "                                    'field_goal_percentage', '3_point_percentage', 'free_throw_percentage', \n",
    "                                    'win_shares_48_minutes', 'minutes_per_game', 'rebounds_per_game', 'assists_per_game'], \n",
    "                                   axis =1)"
   ]
  },
  {
   "cell_type": "code",
   "execution_count": null,
   "id": "cb09843f",
   "metadata": {},
   "outputs": [],
   "source": [
    "nba_groupby_new.corr(\"spearman\").style.background_gradient(cmap='coolwarm')"
   ]
  },
  {
   "cell_type": "markdown",
   "id": "63dd2831",
   "metadata": {},
   "source": [
    "### Applying the model"
   ]
  },
  {
   "cell_type": "code",
   "execution_count": null,
   "id": "7c6b4040",
   "metadata": {},
   "outputs": [],
   "source": [
    "# Split between explanative features and the target variable\n",
    "\n",
    "features_list = ['years_played', 'total_points_scored', 'win_shares', 'box_plus_minus', \n",
    "                 'value_over_replacement_player', 'points_per_game']\n",
    "\n",
    "X = nba_groupby_new.loc[:, features_list]\n",
    "y = nba_groupby_new.loc[:, \"overall_pick\"]"
   ]
  },
  {
   "cell_type": "code",
   "execution_count": null,
   "id": "2e70553a",
   "metadata": {},
   "outputs": [],
   "source": [
    "# Division of the dataset into trains and a test set\n",
    "\n",
    "from sklearn.model_selection import train_test_split\n",
    "X_train, X_test, y_train, y_test = train_test_split(X,y, test_size = 0.2, random_state=0)"
   ]
  },
  {
   "cell_type": "code",
   "execution_count": null,
   "id": "f88f136b",
   "metadata": {},
   "outputs": [],
   "source": [
    "# Checking if every done value matches\n",
    "\n",
    "print(\"Number of rows of X_train = {}\".format(len(X_train)))\n",
    "print(\"Number of rows of X_test = {}\".format(len(X_test)))\n",
    "print(\"Number of rows of y_train= {}\".format(len(y_train)))\n",
    "print(\"Number of rows of y_test = {}\".format(len(y_test)))\n",
    "print(\"Percentage of train values = {}\".format(round(len(X_train)/len(X), 4) * 100),\"%\")"
   ]
  },
  {
   "cell_type": "code",
   "execution_count": null,
   "id": "b0753cb6",
   "metadata": {},
   "outputs": [],
   "source": [
    "# Applying the scaler to the train and test set\n",
    "\n",
    "from sklearn.preprocessing import StandardScaler\n",
    "sc_X = StandardScaler()\n",
    "\n",
    "X_train = sc_X.fit_transform(X_train)\n",
    "X_test = sc_X.transform(X_test)"
   ]
  },
  {
   "cell_type": "code",
   "execution_count": null,
   "id": "d68d0c74",
   "metadata": {},
   "outputs": [],
   "source": [
    "# Creating the model with sklearn\n",
    "\n",
    "from sklearn.linear_model import LinearRegression\n",
    "regressor = LinearRegression() # Instanciation of the model\n",
    "regressor.fit(X_train, y_train)"
   ]
  },
  {
   "cell_type": "code",
   "execution_count": null,
   "id": "1520ffec",
   "metadata": {},
   "outputs": [],
   "source": [
    "# The coefficients of the regressor\n",
    "\n",
    "regressor.coef_"
   ]
  },
  {
   "cell_type": "code",
   "execution_count": null,
   "id": "e8772981",
   "metadata": {},
   "outputs": [],
   "source": [
    "# Verifying overfitting\n",
    "\n",
    "print(\" Score of Train : {}\\n Score of Test : {}\".format(regressor.score(X_train, y_train), regressor.score(X_test, y_test)))"
   ]
  },
  {
   "cell_type": "markdown",
   "id": "343b6b7c",
   "metadata": {},
   "source": [
    ">The results are close and the model is really good"
   ]
  },
  {
   "cell_type": "code",
   "execution_count": null,
   "id": "ac1b49e2",
   "metadata": {},
   "outputs": [],
   "source": [
    "predictions = regressor.predict(X_train)\n",
    "\n",
    "mse = mean_squared_error(y_train, predictions, squared=True)\n",
    "rmse = mean_squared_error(y_train, predictions, squared=False)\n",
    "mae = mean_absolute_error(y_train, predictions)\n",
    "print(\"MSE:\", mse)\n",
    "print(\"RMSE:\", rmse)\n",
    "print(\"MAE:\", mae)"
   ]
  },
  {
   "cell_type": "code",
   "execution_count": null,
   "id": "f419f812",
   "metadata": {},
   "outputs": [],
   "source": [
    "# Visualization of predictions on train set vs real values for y (groundtruth)\n",
    "\n",
    "x = predictions\n",
    "y = y_train\n",
    "t = np.arange(0, x.size)\n",
    "\n",
    "import matplotlib.pyplot as plt\n",
    "\n",
    "fig, ax = plt.subplots()\n",
    "\n",
    "plt.scatter(t,x) \n",
    "plt.scatter(t,y)\n",
    "\n",
    "plt.title(\"Predictions vs Groundtruth overall_pick in the train set\") \n",
    "\n",
    "plt.xlabel(\"Index of the train set\") \n",
    "plt.ylabel(\"overall_pick\") \n",
    " \n",
    "plt.legend([\"Predictions train\", \"Groundtruth\"], loc =\"upper right\")\n",
    "\n",
    "plt.show()"
   ]
  },
  {
   "cell_type": "markdown",
   "id": "a782d42e",
   "metadata": {},
   "source": [
    "### Visualization"
   ]
  },
  {
   "cell_type": "code",
   "execution_count": null,
   "id": "3aac1aad",
   "metadata": {},
   "outputs": [],
   "source": [
    "nba1 = nba[nba[\"total_games_played\"] > 250]\n",
    "\n",
    "fig = px.scatter_3d(nba1, x = \"draft_year\", y = \"overall_pick\", z = \"total_points_scored\", \n",
    "                    opacity = 0.75, hover_data = [\"Player\"],\n",
    "                    color = \"overall_pick\", color_continuous_scale = \"haline_r\")\n",
    "\n",
    "print(\"\")\n",
    "print(\"\")\n",
    "print(\"\")\n",
    "print(\"TOTAL POINTS SCORED BY OVERALL PICK AND YEAR\")\n",
    "print(\"\")\n",
    "print(\"\")\n",
    "print(\"\")\n",
    "\n",
    "\n",
    "\n",
    "fig.update_traces(marker = dict(size = 3.5))\n",
    "fig.update_layout(template = \"plotly_dark\", font = dict(family = \"PT Sans\", size = 12))\n",
    "fig.show()"
   ]
  },
  {
   "cell_type": "markdown",
   "id": "2a8dd226",
   "metadata": {},
   "source": [
    "* We want to know how important is a player. What happens when he is out of the court?"
   ]
  },
  {
   "cell_type": "code",
   "execution_count": null,
   "id": "4357059f",
   "metadata": {},
   "outputs": [],
   "source": [
    "fig = px.scatter_3d(nba1, x = \"draft_year\", y = \"overall_pick\", z = \"value_over_replacement_player\", \n",
    "                    opacity = 0.75, hover_data = [\"Player\"],\n",
    "                    color = \"overall_pick\", color_continuous_scale = \"Plotly3_r\")\n",
    "\n",
    "print(\"\")\n",
    "print(\"\")\n",
    "print(\"\")\n",
    "print(\"VALUE OVER REPLACEMENT PLAYER BY OVERALL PICK AND YEAR\")\n",
    "print(\"\")\n",
    "print(\"\")\n",
    "print(\"\")\n",
    "\n",
    "\n",
    "\n",
    "fig.update_traces(marker = dict(size = 3.5)) # scaling down the markers\n",
    "fig.update_layout(template = \"plotly_dark\", font = dict(family = \"PT Sans\", size = 12))\n",
    "fig.show()"
   ]
  },
  {
   "cell_type": "code",
   "execution_count": null,
   "id": "8b737ab3",
   "metadata": {},
   "outputs": [],
   "source": [
    "for y in [\"years_played\"]:\n",
    "    \n",
    "    fig = px.bar(nba_groupby, x = \"overall_pick\", y = y, title = f\"Career longevity based on draft overall pick\",\n",
    "    color = \"overall_pick\", color_continuous_scale = \"Thermal_r\",)\n",
    "\n",
    "    fig.update_layout(template = \"plotly_dark\", font = dict(family = \"PT Sans\", size = 18))\n",
    "    fig.show()"
   ]
  },
  {
   "cell_type": "markdown",
   "id": "297e5549",
   "metadata": {},
   "source": [
    "# Conclusion\n",
    "\n",
    ">Is it worthwhile to have a selection among the first fifteen positions?\n",
    "\n",
    ">Our research shows that:\n",
    "\n",
    "* Players selected from top positions on Draft perform better on Points scored and Team impact along their professional career at the NBA\n",
    "\n",
    "* Career longevity shows a relationship with Draft Pick. In our opinión this is an indirect measure of Player´s Quality as we asume that NBA is a Darwinian environment, highly competitive were long careers are only available for high performing players\n",
    "\n",
    "### Based on the analysis of this data we conclude that picking players from the top positions on the Draft has a positive impact for the Teams"
   ]
  },
  {
   "cell_type": "code",
   "execution_count": null,
   "id": "2d732560",
   "metadata": {},
   "outputs": [],
   "source": []
  }
 ],
 "metadata": {
  "kernelspec": {
   "display_name": "Python 3 (ipykernel)",
   "language": "python",
   "name": "python3"
  },
  "language_info": {
   "codemirror_mode": {
    "name": "ipython",
    "version": 3
   },
   "file_extension": ".py",
   "mimetype": "text/x-python",
   "name": "python",
   "nbconvert_exporter": "python",
   "pygments_lexer": "ipython3",
   "version": "3.9.12"
  }
 },
 "nbformat": 4,
 "nbformat_minor": 5
}
